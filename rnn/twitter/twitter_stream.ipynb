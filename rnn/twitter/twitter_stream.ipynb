{
 "cells": [
  {
   "cell_type": "markdown",
   "metadata": {},
   "source": [
    "# Twitter"
   ]
  },
  {
   "cell_type": "code",
   "execution_count": 4,
   "metadata": {
    "collapsed": true
   },
   "outputs": [],
   "source": [
    "import tweepy\n",
    "from tweepy import OAuthHandler\n",
    "import json\n",
    "from tweepy import Stream\n",
    "from tweepy.streaming import StreamListener"
   ]
  },
  {
   "cell_type": "code",
   "execution_count": null,
   "metadata": {
    "collapsed": false
   },
   "outputs": [],
   "source": [
    "class MyListner(StreamListener):\n",
    "    def on_data(self, data):\n",
    "        try:\n",
    "            with open('isro.json', 'a') as f:\n",
    "                f.write(data)\n",
    "                return True\n",
    "        except BaseException as e:\n",
    "            print(\"Error on_data: %s\" % str(e))\n",
    "        return True\n",
    "\n",
    "    def on_error(self, status):\n",
    "        print(status)\n",
    "        return True\n",
    "consumer_key = 'g3FysYb4TCeYQJ1YYelj6U1DO'\n",
    "consumer_secret = 'IgO90DNIClFcLezHVDmP0OviJaWNxKRvPRzLbYxxNdELVbxuRg'\n",
    "access_token = '3246538160-cVmnEhoFRVTr9t9A4rNSHY5TmyLkBqmCCnMEHyf'\n",
    "access_secret = 'dRZVP55wK38L0ab70tM2R1bErMutOwuU9zXA64CZiCkjS'\n",
    "\n",
    "auth = OAuthHandler(consumer_key, consumer_secret)\n",
    "auth.set_access_token(access_token, access_secret)\n",
    "\n",
    "#api = tweepy.API(auth)\n",
    "\n",
    "twitter_stream = Stream(auth,MyListner())\n",
    "# make changes here\n",
    "twitter_stream.filter(track=['#ISRO'])"
   ]
  },
  {
   "cell_type": "code",
   "execution_count": 22,
   "metadata": {
    "collapsed": false
   },
   "outputs": [],
   "source": [
    "## Converting json to csv file\n",
    "import csv\n",
    "fp = open('tweets.csv',\"w\")\n",
    "fp_text = open('tweet.txt',\"w\")\n",
    "p = csv.writer(fp)\n",
    "with open('isro.json') as fp:\n",
    "    for line in fp:\n",
    "        tweet = json.loads(line)['text']\n",
    "        tweet = tweet.encode('ascii','ignore')\n",
    "        tweet = tweet.split()\n",
    "        try:\n",
    "            if len(tweet) <= 0:\n",
    "                pass\n",
    "            else:\n",
    "                p.writerow([\" \".join(tweet)])\n",
    "                text = \" \".join(tweet) + '\\n'\n",
    "                fp_text.write(text)\n",
    "        except:\n",
    "            print tweet"
   ]
  },
  {
   "cell_type": "code",
   "execution_count": null,
   "metadata": {
    "collapsed": true
   },
   "outputs": [],
   "source": []
  }
 ],
 "metadata": {
  "kernelspec": {
   "display_name": "Python 2",
   "language": "python",
   "name": "python2"
  },
  "language_info": {
   "codemirror_mode": {
    "name": "ipython",
    "version": 2
   },
   "file_extension": ".py",
   "mimetype": "text/x-python",
   "name": "python",
   "nbconvert_exporter": "python",
   "pygments_lexer": "ipython2",
   "version": "2.7.11"
  }
 },
 "nbformat": 4,
 "nbformat_minor": 0
}
