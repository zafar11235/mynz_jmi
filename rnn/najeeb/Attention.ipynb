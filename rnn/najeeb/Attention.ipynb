{
 "cells": [
  {
   "cell_type": "markdown",
   "metadata": {},
   "source": [
    "# Attention Model\n",
    "\n",
    "\"Simple\" model from http://arxiv.org/pdf/1512.01712v1.pdf"
   ]
  },
  {
   "cell_type": "code",
   "execution_count": 1,
   "metadata": {
    "collapsed": false
   },
   "outputs": [
    {
     "name": "stderr",
     "output_type": "stream",
     "text": [
      "Using Theano backend.\n"
     ]
    },
    {
     "data": {
      "text/plain": [
       "'1.0.3'"
      ]
     },
     "execution_count": 1,
     "metadata": {},
     "output_type": "execute_result"
    }
   ],
   "source": [
    "import keras\n",
    "keras.__version__"
   ]
  },
  {
   "cell_type": "code",
   "execution_count": 2,
   "metadata": {
    "collapsed": true
   },
   "outputs": [],
   "source": [
    "maxlend=25 # 0 - if we dont want to use description at all\n",
    "maxlenh=25\n",
    "maxlen = maxlend + maxlenh\n",
    "rnn_size = 512 # must be same as 160330-word-gen\n",
    "rnn_layers = 3  # match FN1\n",
    "batch_norm=False\n",
    "activation_rnn_size = 40 if maxlend else 0"
   ]
  },
  {
   "cell_type": "code",
   "execution_count": 3,
   "metadata": {
    "collapsed": true
   },
   "outputs": [],
   "source": [
    "# training parameters\n",
    "seed=42\n",
    "p_W, p_U, p_dense, p_emb, weight_decay = 0, 0, 0, 0, 0\n",
    "optimizer = 'adam'\n",
    "LR = 1e-4\n",
    "batch_size=64\n",
    "nflips=10"
   ]
  },
  {
   "cell_type": "code",
   "execution_count": 110,
   "metadata": {
    "collapsed": false
   },
   "outputs": [],
   "source": [
    "## Reading in the text\n",
    "text = [[]]\n",
    "i = count = flag = 0\n",
    "with open('/home/najeeb/Desktop/Dataset/mynz_jmi/corpora.txt') as fp:\n",
    "    for line in fp:\n",
    "        if (line.split())[0] == '<HEADLINE>':\n",
    "            text[i].append(fp.next().strip())\n",
    "        if line.split()[0] == '</P>':\n",
    "            flag = 0\n",
    "            i += 1\n",
    "            text.append([])\n",
    "        if flag == 1:\n",
    "            text[i].append(line.strip())\n",
    "        if line.split()[0] == '<P>' and prevLine == '<TEXT>':\n",
    "            flag = 1\n",
    "            count += 1\n",
    "        prevLine = line.split()[0].strip()"
   ]
  },
  {
   "cell_type": "code",
   "execution_count": 111,
   "metadata": {
    "collapsed": false
   },
   "outputs": [],
   "source": [
    "t = []\n",
    "for i in range(len(text)):\n",
    "    if len(text[i]) > 2:\n",
    "        t.append(text[i])"
   ]
  },
  {
   "cell_type": "code",
   "execution_count": 112,
   "metadata": {
    "collapsed": false
   },
   "outputs": [],
   "source": [
    "headline = []\n",
    "for i in range(len(t)):\n",
    "    headline.append(t[i].pop(0))\n",
    "    string = \" \".join(t[i])\n",
    "    news.append(string)"
   ]
  },
  {
   "cell_type": "code",
   "execution_count": 114,
   "metadata": {
    "collapsed": false
   },
   "outputs": [
    {
     "name": "stdout",
     "output_type": "stream",
     "text": [
      "H: Tributes pour in for late British Labour Party leader\n",
      "T: Tributes poured in from around the world Thursday to the late Labour Party leader John Smith, who died earlier from a massive heart attack aged 55.\n",
      "---------------------------------------\n",
      "H: France rules out participation in military invasion of Haiti\n",
      "T: France would not join a US military invasion of Haiti as part of an effort to restore democratic rule, French Foreign Minister Alain Juppe said Thursday.\n",
      "---------------------------------------\n",
      "H: Chinese dissidents in US favor partial revoking of MFN\n",
      "T: Chinese dissidents in the United States generally favor a partial withdrawal of Beijing's privileged trading status targeting state-owned firms, not complete revocation, dissident leaders said here Thursday.\n",
      "---------------------------------------\n",
      "H: Nagorno Karabakh hit by further clashes amid ceasefire reports\n",
      "T: The Azerbaijani enclave of Nagorno Karabakh was torn by further fighting Thursday as unconfirmed reports of a possible new ceasefire circulated.\n",
      "---------------------------------------\n",
      "H: This restart looks good by Jim Slater\n",
      "T: This time, Nigel Mansell will not be left behind on a restart.\n",
      "---------------------------------------\n",
      "H: Aziz lobbies against oil embargo\n",
      "T: Iraqi Vice Prime Minister Terek Aziz lobbied UN members in New York Thursday to lift the oil embargo against his country.\n",
      "---------------------------------------\n",
      "H: RAF planes airlift evacuees out of Sanaa by Laurence Peter\n",
      "T: Two RAF Hercules transport planes airlifted 148 foreign evacuees, most of them British, to Cyprus Thursday from Sanaa as they fled the fighting in war-torn Yemen.\n",
      "---------------------------------------\n",
      "H: South African shoots ahead in Spain\n",
      "T: Ernie Els was back to his best when the Spanish Open began at windy Club de Camp here Thursday.\n",
      "---------------------------------------\n",
      "H: US Senate vote on Bonsia \"internal\" matter says Juppe\n",
      "T: French Foreign Minister Alain Juppe said Thursday that a US Senate vote calling for a unilateral lifting of the arms embargo on Bosnia was a matter of internal politics in the United States.\n",
      "---------------------------------------\n",
      "H: (repetition) RAF planes airlift evacuees out of Sanaa by Laurence Peter\n",
      "T: Two RAF Hercules transport planes airlifted 148 foreign evacuees, most of them British, to Cyprus Thursday from Sanaa as they fled the fighting in war-torn Yemen.\n",
      "---------------------------------------\n",
      "H: Rightwing extremists chase Turkish group, injure five\n",
      "T: Forty young far-rightwingers armed with knives and sticks chased a group of Turks through the eastern German town of Magdeburg Thursday, injuring five of them, police said.\n",
      "---------------------------------------\n",
      "H: Spurs payments charge shock\n",
      "T: Tottenham Hotspur, the London giants who narrowly escaped relegation from the English Premiership, could yet go down after being accused of making \"irregular\" loans to players.\n",
      "---------------------------------------\n",
      "H: Radioactive capsule stolen in Ukraine\n",
      "T: A capsule containing highly radioactive cesium 137 was stolen from a factory in Ukraine, Interfax quoted security officials as saying Thursday.\n",
      "---------------------------------------\n",
      "H: New Zealand cricket score\n",
      "T: Close of play score on first day of three-day tour match between Middlesex and New Zealand at Lord's on Thursday.\n",
      "---------------------------------------\n",
      "H: ITT to open 750 million dollar casino in Las Vegas\n",
      "T: The US communications giant ITT announced plans Thursday for a 750 million dollar hotel and casino in Las Vegas.\n",
      "---------------------------------------\n",
      "H: English cricket scores\n",
      "T: Close of play scores on first day of English county championship matches.\n",
      "---------------------------------------\n",
      "H: Zhirinovsky quizzes Russian PM on place for party in government\n",
      "T: Russian ultranationalist Vladimir Zhirinovsky said Thursday he had approached Prime Minister Viktor Chernomyrdin with a view to his party being given places in the government, Interfax said.\n",
      "---------------------------------------\n",
      "H: World Cup organizers still fighting fences\n",
      "T: World Cup fans at Stanford Stadium in California and in Washington are almost certain to be fenced in, against the wishes of FIFA and tournament organizers, World Cup chairman Alan Rothenberg confirmed Thursday.\n",
      "---------------------------------------\n",
      "H: India puts prize on Bombay bomb blast suspects\n",
      "T: India Thursday offered rewards for information leading to the arrest of an alleged underworld leader and 43 other suspects in Bombay bomb blasts last year.\n",
      "---------------------------------------\n",
      "H: Taiwan to allow massacre to feature in text books\n",
      "T: A 1947 massacre of native Taiwanese people is to be mentioned for the first time in history textbooks, officials said Thursday.\n",
      "---------------------------------------\n",
      "H: China announces new ministers\n",
      "T: China replaced three ministers on Thursday, the official Xinhua press agency reported.\n",
      "---------------------------------------\n",
      "H: Jiang meets Malaysia PM, defends Tiananmen\n",
      "T: Chinese President Jiang Zemin Thursday defended the 1989 military crackdown on pro-democracy protesters in Tiananmen Square, saying China's stability and prosperity had depended on it, Xinhua reported.\n",
      "---------------------------------------\n",
      "H: Argentina call of Japan tour\n",
      "T: Argentina have called off their two football internationals in Japan after Japanese authorities refused team captain Diego Maradona entry because of his drugs record.\n",
      "---------------------------------------\n",
      "H: Media bidding battle finances anorexic twin's battle to live by Howard Williams\n",
      "T: A 26-year-old anorexic's fight for survival hung in the balance Thursday as the British woman awaited the outcome of a media bidding battle for her exclusive story.\n",
      "---------------------------------------\n",
      "H: If Samantha's bid for the money is successful, her bid for life will start\n",
      "T: next week in what Winn Stanley described as \"a large mansion with three suites with up to two patients in each suite.\"\n",
      "---------------------------------------\n",
      "H: Boutros-Ghali urges that safe areas be clearly defined\n",
      "T: UN Secretary General Boutros Boutros-Ghali recommended Thursday that the United Nations clearly define the boundaries around the six designated safe areas in Bosnia-Hercegovina.\n",
      "---------------------------------------\n",
      "H: Feyenoord take Dutch Cup\n",
      "T: Feyenoord beat second division Nijmegen 2-1 in the Dutch Cup final on their own pitch here on Thursday.\n",
      "---------------------------------------\n",
      "H: It's a big weekend in India-No-Place by Jim Slater\n",
      "T: Once dubbed India-No-Place because nothing exciting ever happened here, this central US city is preparing for its greatest weekend ever.\n",
      "---------------------------------------\n",
      "H: \"We want a little May madness of our own,\" Indiana guard Reggie Miller\n",
      "T: said. \"We know this is a big time at the speedway, but I would like to see some of the drivers at our game.\"\n",
      "---------------------------------------\n",
      "H: Senate deals blow to Clinton with Bosnia vote by Christian Chaise\n",
      "T: The Senate defied President Bill Clinton on Thursday by approving a measure that would require the United States to lift the arms embargo against Bosnia unilaterally.\n",
      "---------------------------------------\n",
      "H: \"Lifting the arms embargo is the only feasible option that will permit the\n",
      "T: Bosnian government to defend itself,\" said Senator Joseph Biden following the vote on the bill.\n",
      "---------------------------------------\n",
      "H: Bus bonanza for Atlanta Games\n",
      "T: The US government plans to help send 2,000 buses from around the nation to Atlanta for use at the 1996 Olympics.\n",
      "---------------------------------------\n",
      "H: Former Italian health minister arrested\n",
      "T: A former Italian health minister nicknamed Torquemada for his inquisitorial raids on hospitals to unmask fraud was arrested on corruption charges Thursday, judicial sources said in Naples.\n",
      "---------------------------------------\n",
      "H: Gunmen kill man in Belfast, loyalists claim responsibility\n",
      "T: Gunmen burst into a house in north Belfast Thursday and killed a man at close range, police said.\n",
      "---------------------------------------\n",
      "H: Blue chips rally as interest rate tensions ease\n",
      "T: Blue-chip stocks rallied Thursday amid easing long-term interest rates after the government released figures showing inflation under control.\n",
      "---------------------------------------\n",
      "H: (new series) PLO announces members of its self-rule \"cabinet\"\n",
      "T: The PLO on Thursday gave Israel a partial list of members of the Palestinian authority due to take power next week in Gaza and Jericho, the chief Palestinian negotiator said.\n",
      "---------------------------------------\n",
      "H: Under last week's PLO-Israel accord on implementing limited Palestinian\n",
      "T: self-rule in the Gaza strip and the West Bank town of Jericho, the authority is due to take over on May 25.\n",
      "---------------------------------------\n",
      "H: Former Belmont champ Easy Goer dies\n",
      "T: Easy Goer, whose rivalry with Sunday Silence defined the 1989 US racing season, died of natural causes Thursday at Claiborne Farm.\n",
      "---------------------------------------\n",
      "H: (new series) French hostages probably free next week: Serb agency\n",
      "T: Eleven French aid workers held hostage by Bosnian Serbs forces for the last month will probably be freed next week, the Bosnian Serb news agency SRNA said Thursday.\n",
      "---------------------------------------\n",
      "H: Clint steals show as Cannes festival opens\n",
      "T: The 47th Cannes International Film Festival opened Thursday with jury president Clint Eastwood stealing the show even before the world's biggest filmfest got under way.\n",
      "---------------------------------------\n",
      "H: (new series) North says it shot down southern warplane\n",
      "T: Northern forces loyal to President Ali Abdallah Saleh said late Thursday they had shot down a southern warplane over the road to the stronghold of Aden.\n",
      "---------------------------------------\n",
      "H: Broadcasting death on TV to give meaning to life\n",
      "T: A death row inmate wants the world to see his execution as he fights a warden's order banning his death being broadcast on national television.\n",
      "---------------------------------------\n",
      "H: He said televising the events would be the modern-day equivalent of public\n",
      "T: hangings which attracted hundreds of vendors and spectators before they were halted. The last public hanging in North Carolina took place in 1910.\n",
      "---------------------------------------\n",
      "H: European title for Romania\n",
      "T: Lavinia Milosovici, Gina Gogean, Nadia Hategan and Simona Amanar won the women's title for Romania at the European team gymnastics championships here on Thursday.\n",
      "---------------------------------------\n",
      "H: Violence overshadows Dominican Republic elections by Arturo Gudino\n",
      "T: Killings and threats of increased violence have overshadowed preparations for a presidential vote next week, even though the parties signed a civility pact to guarantee peace during the balloting.\n",
      "---------------------------------------\n",
      "H: \"The election will be clean and pure,\" said Balaguer, who is seeking a\n",
      "T: third, four-year term. \"It (the pact) will calm citizens frightened by disagreeable events.\"\n",
      "---------------------------------------\n",
      "H: Dollar weakens in wait-and-see atmosphere\n",
      "T: The dollar lost ground against the major currencies Thursday in New York exchange as traders awaited more data on inflation trends in the United States.\n",
      "---------------------------------------\n",
      "H: Double chasers' small problem\n",
      "T: Double chasers Manchester United are praying that small will not beautiful in Saturday's FA Cup Final.\n",
      "---------------------------------------\n",
      "H: Alex Ferguson side's defeat at Stamford Bridge could easily have gone the\n",
      "T: other way, and the Old Trafford setback was the start of an early spring blip, now well behind them.\n",
      "---------------------------------------\n",
      "H: (new series) Cheering crowds track down Jericho police by Nejla Sammakia\n",
      "T: Hundreds of jubilant residents finally tracked down a vanguard of 20 Palestinian police officers as they waited outside Jericho Thursday ready to take over from the Israeli army.\n",
      "---------------------------------------\n"
     ]
    }
   ],
   "source": [
    "for i in range(50):\n",
    "    print \"H: \" + headline[i][0]\n",
    "    print \"T: \" + news[i][0]\n",
    "    print \"---------------------------------------\""
   ]
  },
  {
   "cell_type": "code",
   "execution_count": 119,
   "metadata": {
    "collapsed": false
   },
   "outputs": [
    {
     "name": "stdout",
     "output_type": "stream",
     "text": [
      "5709\n"
     ]
    }
   ],
   "source": []
  },
  {
   "cell_type": "code",
   "execution_count": 123,
   "metadata": {
    "collapsed": false
   },
   "outputs": [
    {
     "name": "stdout",
     "output_type": "stream",
     "text": [
      "17167\n"
     ]
    }
   ],
   "source": [
    "count = 0\n",
    "for i,w in enumerate(news):\n",
    "    count += 1\n",
    "print count"
   ]
  },
  {
   "cell_type": "code",
   "execution_count": null,
   "metadata": {
    "collapsed": true
   },
   "outputs": [],
   "source": []
  }
 ],
 "metadata": {
  "kernelspec": {
   "display_name": "Python 2",
   "language": "python",
   "name": "python2"
  },
  "language_info": {
   "codemirror_mode": {
    "name": "ipython",
    "version": 2
   },
   "file_extension": ".py",
   "mimetype": "text/x-python",
   "name": "python",
   "nbconvert_exporter": "python",
   "pygments_lexer": "ipython2",
   "version": "2.7.11"
  }
 },
 "nbformat": 4,
 "nbformat_minor": 0
}
