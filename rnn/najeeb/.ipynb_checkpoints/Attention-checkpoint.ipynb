{
 "cells": [
  {
   "cell_type": "markdown",
   "metadata": {},
   "source": [
    "# Attention Model\n",
    "\n",
    "\"Simple\" model from http://arxiv.org/pdf/1512.01712v1.pdf"
   ]
  },
  {
   "cell_type": "code",
   "execution_count": 1,
   "metadata": {
    "collapsed": false
   },
   "outputs": [
    {
     "name": "stderr",
     "output_type": "stream",
     "text": [
      "Using Theano backend.\n"
     ]
    },
    {
     "data": {
      "text/plain": [
       "'1.0.3'"
      ]
     },
     "execution_count": 1,
     "metadata": {},
     "output_type": "execute_result"
    }
   ],
   "source": [
    "import keras\n",
    "keras.__version__"
   ]
  },
  {
   "cell_type": "code",
   "execution_count": 2,
   "metadata": {
    "collapsed": true
   },
   "outputs": [],
   "source": [
    "maxlend=25 # 0 - if we dont want to use description at all\n",
    "maxlenh=25\n",
    "maxlen = maxlend + maxlenh\n",
    "rnn_size = 512 # must be same as 160330-word-gen\n",
    "rnn_layers = 3  # match FN1\n",
    "batch_norm=False\n",
    "activation_rnn_size = 40 if maxlend else 0"
   ]
  },
  {
   "cell_type": "code",
   "execution_count": 3,
   "metadata": {
    "collapsed": true
   },
   "outputs": [],
   "source": [
    "# training parameters\n",
    "seed=42\n",
    "p_W, p_U, p_dense, p_emb, weight_decay = 0, 0, 0, 0, 0\n",
    "optimizer = 'adam'\n",
    "LR = 1e-4\n",
    "batch_size=64\n",
    "nflips=10"
   ]
  },
  {
   "cell_type": "code",
   "execution_count": 110,
   "metadata": {
    "collapsed": false
   },
   "outputs": [],
   "source": [
    "## Reading in the text\n",
    "text = [[]]\n",
    "i = count = flag = 0\n",
    "with open('/home/najeeb/Desktop/Dataset/mynz_jmi/corpora.txt') as fp:\n",
    "    for line in fp:\n",
    "        if (line.split())[0] == '<HEADLINE>':\n",
    "            text[i].append(fp.next().strip())\n",
    "        if line.split()[0] == '</P>':\n",
    "            flag = 0\n",
    "            i += 1\n",
    "            text.append([])\n",
    "        if flag == 1:\n",
    "            text[i].append(line.strip())\n",
    "        if line.split()[0] == '<P>' and prevLine == '<TEXT>':\n",
    "            flag = 1\n",
    "            count += 1\n",
    "        prevLine = line.split()[0].strip()"
   ]
  },
  {
   "cell_type": "code",
   "execution_count": null,
   "metadata": {
    "collapsed": false
   },
   "outputs": [],
   "source": []
  },
  {
   "cell_type": "code",
   "execution_count": 111,
   "metadata": {
    "collapsed": false
   },
   "outputs": [],
   "source": [
    "t = []\n",
    "for i in range(len(text)):\n",
    "    if len(text[i]) > 2:\n",
    "        t.append(text[i])"
   ]
  },
  {
   "cell_type": "code",
   "execution_count": null,
   "metadata": {
    "collapsed": false
   },
   "outputs": [],
   "source": []
  },
  {
   "cell_type": "code",
   "execution_count": null,
   "metadata": {
    "collapsed": true
   },
   "outputs": [],
   "source": []
  },
  {
   "cell_type": "code",
   "execution_count": 112,
   "metadata": {
    "collapsed": false
   },
   "outputs": [],
   "source": [
    "headline = []\n",
    "for i in range(len(t)):\n",
    "    headline.append(t[i].pop(0))\n",
    "    string = \" \".join(t[i])\n",
    "    news.append(string)"
   ]
  },
  {
   "cell_type": "code",
   "execution_count": null,
   "metadata": {
    "collapsed": false
   },
   "outputs": [],
   "source": []
  },
  {
   "cell_type": "code",
   "execution_count": null,
   "metadata": {
    "collapsed": false
   },
   "outputs": [],
   "source": []
  },
  {
   "cell_type": "code",
   "execution_count": 113,
   "metadata": {
    "collapsed": false
   },
   "outputs": [
    {
     "name": "stdout",
     "output_type": "stream",
     "text": [
      "Tributes pour in for late British Labour Party leader\n",
      "Tributes poured in from around the world Thursday to the late Labour Party leader John Smith, who died earlier from a massive heart attack aged 55.\n",
      "---------------------------------------\n",
      "France rules out participation in military invasion of Haiti\n",
      "France would not join a US military invasion of Haiti as part of an effort to restore democratic rule, French Foreign Minister Alain Juppe said Thursday.\n",
      "---------------------------------------\n",
      "Chinese dissidents in US favor partial revoking of MFN\n",
      "Chinese dissidents in the United States generally favor a partial withdrawal of Beijing's privileged trading status targeting state-owned firms, not complete revocation, dissident leaders said here Thursday.\n",
      "---------------------------------------\n",
      "Nagorno Karabakh hit by further clashes amid ceasefire reports\n",
      "The Azerbaijani enclave of Nagorno Karabakh was torn by further fighting Thursday as unconfirmed reports of a possible new ceasefire circulated.\n",
      "---------------------------------------\n",
      "This restart looks good by Jim Slater\n",
      "This time, Nigel Mansell will not be left behind on a restart.\n",
      "---------------------------------------\n",
      "Aziz lobbies against oil embargo\n",
      "Iraqi Vice Prime Minister Terek Aziz lobbied UN members in New York Thursday to lift the oil embargo against his country.\n",
      "---------------------------------------\n",
      "RAF planes airlift evacuees out of Sanaa by Laurence Peter\n",
      "Two RAF Hercules transport planes airlifted 148 foreign evacuees, most of them British, to Cyprus Thursday from Sanaa as they fled the fighting in war-torn Yemen.\n",
      "---------------------------------------\n",
      "South African shoots ahead in Spain\n",
      "Ernie Els was back to his best when the Spanish Open began at windy Club de Camp here Thursday.\n",
      "---------------------------------------\n",
      "US Senate vote on Bonsia \"internal\" matter says Juppe\n",
      "French Foreign Minister Alain Juppe said Thursday that a US Senate vote calling for a unilateral lifting of the arms embargo on Bosnia was a matter of internal politics in the United States.\n",
      "---------------------------------------\n",
      "(repetition) RAF planes airlift evacuees out of Sanaa by Laurence Peter\n",
      "Two RAF Hercules transport planes airlifted 148 foreign evacuees, most of them British, to Cyprus Thursday from Sanaa as they fled the fighting in war-torn Yemen.\n",
      "---------------------------------------\n"
     ]
    }
   ],
   "source": [
    "for i in range(50):\n",
    "    print \"H: \" + headline[i]\n",
    "    print \"T: \" + news[i]\n",
    "    print \"---------------------------------------\""
   ]
  },
  {
   "cell_type": "code",
   "execution_count": null,
   "metadata": {
    "collapsed": true
   },
   "outputs": [],
   "source": []
  }
 ],
 "metadata": {
  "kernelspec": {
   "display_name": "Python 2",
   "language": "python",
   "name": "python2"
  },
  "language_info": {
   "codemirror_mode": {
    "name": "ipython",
    "version": 2
   },
   "file_extension": ".py",
   "mimetype": "text/x-python",
   "name": "python",
   "nbconvert_exporter": "python",
   "pygments_lexer": "ipython2",
   "version": "2.7.11"
  }
 },
 "nbformat": 4,
 "nbformat_minor": 0
}
